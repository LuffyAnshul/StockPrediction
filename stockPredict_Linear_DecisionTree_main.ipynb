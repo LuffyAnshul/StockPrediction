{
  "nbformat": 4,
  "nbformat_minor": 0,
  "metadata": {
    "colab": {
      "name": "Untitled1.ipynb",
      "provenance": [],
      "authorship_tag": "ABX9TyPaT/Y6rN5g3lIHCBWT39ji",
      "include_colab_link": true
    },
    "kernelspec": {
      "name": "python3",
      "display_name": "Python 3"
    }
  },
  "cells": [
    {
      "cell_type": "markdown",
      "metadata": {
        "id": "view-in-github",
        "colab_type": "text"
      },
      "source": [
        "<a href=\"https://colab.research.google.com/github/LuffyAnshul/StockPrediction/blob/master/stockPredict_Linear_DecisionTree_main.ipynb\" target=\"_parent\"><img src=\"https://colab.research.google.com/assets/colab-badge.svg\" alt=\"Open In Colab\"/></a>"
      ]
    },
    {
      "cell_type": "code",
      "metadata": {
        "id": "q6xCC2tbRvHj",
        "colab_type": "code",
        "colab": {}
      },
      "source": [
        "import numpy as np\n",
        "import pandas as pd\n",
        "from sklearn.tree import DecisionTreeRegressor\n",
        "from sklearn.linear_model import LinearRegression\n",
        "from sklearn.model_selection import train_test_split\n",
        "import matplotlib.pyplot as plt\n",
        "\n",
        "plt.style.use('bmh')"
      ],
      "execution_count": 0,
      "outputs": []
    },
    {
      "cell_type": "code",
      "metadata": {
        "id": "QNqSNrcGSC-L",
        "colab_type": "code",
        "outputId": "d06db194-1e7e-4a66-db8d-a1de886f1a7a",
        "colab": {
          "resources": {
            "http://localhost:8080/nbextensions/google.colab/files.js": {
              "data": "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",
              "ok": true,
              "headers": [
                [
                  "content-type",
                  "application/javascript"
                ]
              ],
              "status": 200,
              "status_text": ""
            }
          },
          "base_uri": "https://localhost:8080/",
          "height": 75
        }
      },
      "source": [
        "# Loading the Data\n",
        "\n",
        "from google.colab import files\n",
        "uploaded = files.upload()"
      ],
      "execution_count": 0,
      "outputs": [
        {
          "output_type": "display_data",
          "data": {
            "text/html": [
              "\n",
              "     <input type=\"file\" id=\"files-aeb3a860-a1ee-4973-881e-1b88a3988e8f\" name=\"files[]\" multiple disabled />\n",
              "     <output id=\"result-aeb3a860-a1ee-4973-881e-1b88a3988e8f\">\n",
              "      Upload widget is only available when the cell has been executed in the\n",
              "      current browser session. Please rerun this cell to enable.\n",
              "      </output>\n",
              "      <script src=\"/nbextensions/google.colab/files.js\"></script> "
            ],
            "text/plain": [
              "<IPython.core.display.HTML object>"
            ]
          },
          "metadata": {
            "tags": []
          }
        },
        {
          "output_type": "stream",
          "text": [
            "Saving NFLX.csv to NFLX.csv\n"
          ],
          "name": "stdout"
        }
      ]
    },
    {
      "cell_type": "code",
      "metadata": {
        "id": "dq9_LqHDSP7K",
        "colab_type": "code",
        "outputId": "2235a8e0-1d30-4e12-e426-4358c01c31dd",
        "colab": {
          "base_uri": "https://localhost:8080/",
          "height": 195
        }
      },
      "source": [
        "# Store the data into a dataframe\n",
        "\n",
        "df = pd.read_csv('NFLX.csv')\n",
        "df.head(5)"
      ],
      "execution_count": 0,
      "outputs": [
        {
          "output_type": "execute_result",
          "data": {
            "text/html": [
              "<div>\n",
              "<style scoped>\n",
              "    .dataframe tbody tr th:only-of-type {\n",
              "        vertical-align: middle;\n",
              "    }\n",
              "\n",
              "    .dataframe tbody tr th {\n",
              "        vertical-align: top;\n",
              "    }\n",
              "\n",
              "    .dataframe thead th {\n",
              "        text-align: right;\n",
              "    }\n",
              "</style>\n",
              "<table border=\"1\" class=\"dataframe\">\n",
              "  <thead>\n",
              "    <tr style=\"text-align: right;\">\n",
              "      <th></th>\n",
              "      <th>Date</th>\n",
              "      <th>Open</th>\n",
              "      <th>High</th>\n",
              "      <th>Low</th>\n",
              "      <th>Close</th>\n",
              "      <th>Adj Close</th>\n",
              "      <th>Volume</th>\n",
              "    </tr>\n",
              "  </thead>\n",
              "  <tbody>\n",
              "    <tr>\n",
              "      <th>0</th>\n",
              "      <td>2019-04-29</td>\n",
              "      <td>373.679993</td>\n",
              "      <td>374.579987</td>\n",
              "      <td>369.119995</td>\n",
              "      <td>371.829987</td>\n",
              "      <td>371.829987</td>\n",
              "      <td>3821700</td>\n",
              "    </tr>\n",
              "    <tr>\n",
              "      <th>1</th>\n",
              "      <td>2019-04-30</td>\n",
              "      <td>369.559998</td>\n",
              "      <td>374.500000</td>\n",
              "      <td>368.350006</td>\n",
              "      <td>370.540009</td>\n",
              "      <td>370.540009</td>\n",
              "      <td>3870100</td>\n",
              "    </tr>\n",
              "    <tr>\n",
              "      <th>2</th>\n",
              "      <td>2019-05-01</td>\n",
              "      <td>374.000000</td>\n",
              "      <td>385.989990</td>\n",
              "      <td>373.170013</td>\n",
              "      <td>378.809998</td>\n",
              "      <td>378.809998</td>\n",
              "      <td>9257300</td>\n",
              "    </tr>\n",
              "    <tr>\n",
              "      <th>3</th>\n",
              "      <td>2019-05-02</td>\n",
              "      <td>378.000000</td>\n",
              "      <td>383.500000</td>\n",
              "      <td>374.510010</td>\n",
              "      <td>379.059998</td>\n",
              "      <td>379.059998</td>\n",
              "      <td>5398200</td>\n",
              "    </tr>\n",
              "    <tr>\n",
              "      <th>4</th>\n",
              "      <td>2019-05-03</td>\n",
              "      <td>381.529999</td>\n",
              "      <td>385.029999</td>\n",
              "      <td>378.269989</td>\n",
              "      <td>385.029999</td>\n",
              "      <td>385.029999</td>\n",
              "      <td>5130300</td>\n",
              "    </tr>\n",
              "  </tbody>\n",
              "</table>\n",
              "</div>"
            ],
            "text/plain": [
              "         Date        Open        High  ...       Close   Adj Close   Volume\n",
              "0  2019-04-29  373.679993  374.579987  ...  371.829987  371.829987  3821700\n",
              "1  2019-04-30  369.559998  374.500000  ...  370.540009  370.540009  3870100\n",
              "2  2019-05-01  374.000000  385.989990  ...  378.809998  378.809998  9257300\n",
              "3  2019-05-02  378.000000  383.500000  ...  379.059998  379.059998  5398200\n",
              "4  2019-05-03  381.529999  385.029999  ...  385.029999  385.029999  5130300\n",
              "\n",
              "[5 rows x 7 columns]"
            ]
          },
          "metadata": {
            "tags": []
          },
          "execution_count": 4
        }
      ]
    },
    {
      "cell_type": "code",
      "metadata": {
        "id": "USLHUAM5Sdkq",
        "colab_type": "code",
        "outputId": "63a29044-dfc8-4ae9-9ded-1b7ef945b5a3",
        "colab": {
          "base_uri": "https://localhost:8080/",
          "height": 34
        }
      },
      "source": [
        "# Get the number of training days\n",
        "df.shape"
      ],
      "execution_count": 0,
      "outputs": [
        {
          "output_type": "execute_result",
          "data": {
            "text/plain": [
              "(253, 7)"
            ]
          },
          "metadata": {
            "tags": []
          },
          "execution_count": 5
        }
      ]
    },
    {
      "cell_type": "code",
      "metadata": {
        "id": "379Cx2vUSmXx",
        "colab_type": "code",
        "outputId": "aa0147fc-a1aa-4959-e8fd-4ccd446add4a",
        "colab": {
          "base_uri": "https://localhost:8080/",
          "height": 356
        }
      },
      "source": [
        "# Visualize the close price data\n",
        "plt.figure(figsize=(16, 8))\n",
        "plt.title('Netflix')\n",
        "plt.xlabel('Days')\n",
        "plt.ylabel('Close Price USD ($)')\n",
        "plt.plot(df['Close'])\n",
        "plt.show()"
      ],
      "execution_count": 0,
      "outputs": [
        {
          "output_type": "display_data",
          "data": {
            "image/png": "[encoded data removed]",
            "text/plain": [
              "<Figure size 1152x576 with 1 Axes>"
            ]
          },
          "metadata": {
            "tags": [],
            "needs_background": "light"
          }
        }
      ]
    },
    {
      "cell_type": "code",
      "metadata": {
        "id": "PrN2nv6LS6cp",
        "colab_type": "code",
        "outputId": "a4f95753-c6cb-4a4f-d57f-8d1b9ecc7ec6",
        "colab": {
          "base_uri": "https://localhost:8080/",
          "height": 166
        }
      },
      "source": [
        "# get the close price\n",
        "df = df[['Close']]\n",
        "df.head(4)"
      ],
      "execution_count": 0,
      "outputs": [
        {
          "output_type": "execute_result",
          "data": {
            "text/html": [
              "<div>\n",
              "<style scoped>\n",
              "    .dataframe tbody tr th:only-of-type {\n",
              "        vertical-align: middle;\n",
              "    }\n",
              "\n",
              "    .dataframe tbody tr th {\n",
              "        vertical-align: top;\n",
              "    }\n",
              "\n",
              "    .dataframe thead th {\n",
              "        text-align: right;\n",
              "    }\n",
              "</style>\n",
              "<table border=\"1\" class=\"dataframe\">\n",
              "  <thead>\n",
              "    <tr style=\"text-align: right;\">\n",
              "      <th></th>\n",
              "      <th>Close</th>\n",
              "    </tr>\n",
              "  </thead>\n",
              "  <tbody>\n",
              "    <tr>\n",
              "      <th>0</th>\n",
              "      <td>371.829987</td>\n",
              "    </tr>\n",
              "    <tr>\n",
              "      <th>1</th>\n",
              "      <td>370.540009</td>\n",
              "    </tr>\n",
              "    <tr>\n",
              "      <th>2</th>\n",
              "      <td>378.809998</td>\n",
              "    </tr>\n",
              "    <tr>\n",
              "      <th>3</th>\n",
              "      <td>379.059998</td>\n",
              "    </tr>\n",
              "  </tbody>\n",
              "</table>\n",
              "</div>"
            ],
            "text/plain": [
              "        Close\n",
              "0  371.829987\n",
              "1  370.540009\n",
              "2  378.809998\n",
              "3  379.059998"
            ]
          },
          "metadata": {
            "tags": []
          },
          "execution_count": 9
        }
      ]
    },
    {
      "cell_type": "code",
      "metadata": {
        "id": "G1g2cSWJTWmN",
        "colab_type": "code",
        "outputId": "3e7b3059-cc90-47ec-e51d-f3d28b51ce9d",
        "colab": {
          "base_uri": "https://localhost:8080/",
          "height": 291
        }
      },
      "source": [
        "# Create Variable tp predict the 'x' days out into the future\n",
        "\n",
        "future_days = 25\n",
        "\n",
        "# Create new column { target data } shifted 'x' units/days\n",
        "df['Prediction'] = df[['Close']].shift(-future_days)\n",
        "df.tail(4)"
      ],
      "execution_count": 0,
      "outputs": [
        {
          "output_type": "stream",
          "text": [
            "/usr/local/lib/python3.6/dist-packages/ipykernel_launcher.py:5: SettingWithCopyWarning: \n",
            "A value is trying to be set on a copy of a slice from a DataFrame.\n",
            "Try using .loc[row_indexer,col_indexer] = value instead\n",
            "\n",
            "See the caveats in the documentation: https://pandas.pydata.org/pandas-docs/stable/user_guide/indexing.html#returning-a-view-versus-a-copy\n",
            "  \"\"\"\n"
          ],
          "name": "stderr"
        },
        {
          "output_type": "execute_result",
          "data": {
            "text/html": [
              "<div>\n",
              "<style scoped>\n",
              "    .dataframe tbody tr th:only-of-type {\n",
              "        vertical-align: middle;\n",
              "    }\n",
              "\n",
              "    .dataframe tbody tr th {\n",
              "        vertical-align: top;\n",
              "    }\n",
              "\n",
              "    .dataframe thead th {\n",
              "        text-align: right;\n",
              "    }\n",
              "</style>\n",
              "<table border=\"1\" class=\"dataframe\">\n",
              "  <thead>\n",
              "    <tr style=\"text-align: right;\">\n",
              "      <th></th>\n",
              "      <th>Close</th>\n",
              "      <th>Prediction</th>\n",
              "    </tr>\n",
              "  </thead>\n",
              "  <tbody>\n",
              "    <tr>\n",
              "      <th>249</th>\n",
              "      <td>426.700012</td>\n",
              "      <td>NaN</td>\n",
              "    </tr>\n",
              "    <tr>\n",
              "      <th>250</th>\n",
              "      <td>424.989990</td>\n",
              "      <td>NaN</td>\n",
              "    </tr>\n",
              "    <tr>\n",
              "      <th>251</th>\n",
              "      <td>421.380005</td>\n",
              "      <td>NaN</td>\n",
              "    </tr>\n",
              "    <tr>\n",
              "      <th>252</th>\n",
              "      <td>406.795013</td>\n",
              "      <td>NaN</td>\n",
              "    </tr>\n",
              "  </tbody>\n",
              "</table>\n",
              "</div>"
            ],
            "text/plain": [
              "          Close  Prediction\n",
              "249  426.700012         NaN\n",
              "250  424.989990         NaN\n",
              "251  421.380005         NaN\n",
              "252  406.795013         NaN"
            ]
          },
          "metadata": {
            "tags": []
          },
          "execution_count": 13
        }
      ]
    },
    {
      "cell_type": "code",
      "metadata": {
        "id": "Fn-cXKaiTvB0",
        "colab_type": "code",
        "outputId": "454a7de6-a3dc-45c4-ec30-eb798aa05ac0",
        "colab": {
          "base_uri": "https://localhost:8080/",
          "height": 1000
        }
      },
      "source": [
        "# Create the feature dataset (X) and convert it to numpy array and remove last 'x' rows/days\n",
        "X = np.array(df.drop(['Prediction'], 1))[: -future_days]\n",
        "print(X)"
      ],
      "execution_count": 0,
      "outputs": [
        {
          "output_type": "stream",
          "text": [
            "[[371.829987]\n",
            " [370.540009]\n",
            " [378.809998]\n",
            " [379.059998]\n",
            " [385.029999]\n",
            " [378.670013]\n",
            " [370.459991]\n",
            " [364.369995]\n",
            " [362.75    ]\n",
            " [361.040009]\n",
            " [345.26001 ]\n",
            " [345.609985]\n",
            " [354.98999 ]\n",
            " [359.309998]\n",
            " [354.450012]\n",
            " [348.109985]\n",
            " [354.269989]\n",
            " [359.730011]\n",
            " [352.209991]\n",
            " [354.390015]\n",
            " [355.059998]\n",
            " [349.190002]\n",
            " [351.850006]\n",
            " [343.279999]\n",
            " [336.630005]\n",
            " [353.399994]\n",
            " [355.730011]\n",
            " [357.130005]\n",
            " [360.869995]\n",
            " [352.01001 ]\n",
            " [351.269989]\n",
            " [345.559998]\n",
            " [343.429993]\n",
            " [339.730011]\n",
            " [350.619995]\n",
            " [357.119995]\n",
            " [363.519989]\n",
            " [365.209991]\n",
            " [369.209991]\n",
            " [371.040009]\n",
            " [360.299988]\n",
            " [362.200012]\n",
            " [370.019989]\n",
            " [367.320007]\n",
            " [374.600006]\n",
            " [375.429993]\n",
            " [381.720001]\n",
            " [380.549988]\n",
            " [376.160004]\n",
            " [379.929993]\n",
            " [381.      ]\n",
            " [379.5     ]\n",
            " [373.25    ]\n",
            " [366.600006]\n",
            " [365.98999 ]\n",
            " [362.440002]\n",
            " [325.209991]\n",
            " [315.100006]\n",
            " [310.619995]\n",
            " [307.299988]\n",
            " [317.940002]\n",
            " [326.459991]\n",
            " [335.779999]\n",
            " [332.700012]\n",
            " [325.929993]\n",
            " [322.98999 ]\n",
            " [319.5     ]\n",
            " [318.829987]\n",
            " [307.630005]\n",
            " [310.100006]\n",
            " [304.290009]\n",
            " [315.899994]\n",
            " [308.929993]\n",
            " [310.829987]\n",
            " [312.279999]\n",
            " [299.109985]\n",
            " [295.76001 ]\n",
            " [302.799988]\n",
            " [309.380005]\n",
            " [298.98999 ]\n",
            " [297.809998]\n",
            " [296.929993]\n",
            " [291.440002]\n",
            " [294.980011]\n",
            " [291.029999]\n",
            " [291.769989]\n",
            " [296.779999]\n",
            " [293.75    ]\n",
            " [289.290009]\n",
            " [291.519989]\n",
            " [293.25    ]\n",
            " [290.170013]\n",
            " [294.339996]\n",
            " [287.98999 ]\n",
            " [288.269989]\n",
            " [288.859985]\n",
            " [294.149994]\n",
            " [294.290009]\n",
            " [298.600006]\n",
            " [291.559998]\n",
            " [286.600006]\n",
            " [270.75    ]\n",
            " [265.920013]\n",
            " [254.589996]\n",
            " [264.75    ]\n",
            " [263.309998]\n",
            " [263.079987]\n",
            " [267.619995]\n",
            " [269.579987]\n",
            " [268.029999]\n",
            " [268.149994]\n",
            " [272.790009]\n",
            " [274.459991]\n",
            " [270.720001]\n",
            " [267.529999]\n",
            " [280.480011]\n",
            " [282.929993]\n",
            " [285.529999]\n",
            " [284.25    ]\n",
            " [286.279999]\n",
            " [293.350006]\n",
            " [275.299988]\n",
            " [278.049988]\n",
            " [266.690002]\n",
            " [271.269989]\n",
            " [271.5     ]\n",
            " [276.820007]\n",
            " [281.859985]\n",
            " [281.209991]\n",
            " [291.450012]\n",
            " [287.410004]\n",
            " [286.809998]\n",
            " [292.859985]\n",
            " [288.029999]\n",
            " [288.589996]\n",
            " [289.570007]\n",
            " [291.570007]\n",
            " [294.179993]\n",
            " [292.01001 ]\n",
            " [283.109985]\n",
            " [289.619995]\n",
            " [295.029999]\n",
            " [302.570007]\n",
            " [302.600006]\n",
            " [305.160004]\n",
            " [311.690002]\n",
            " [310.480011]\n",
            " [315.549988]\n",
            " [312.48999 ]\n",
            " [315.929993]\n",
            " [314.660004]\n",
            " [309.98999 ]\n",
            " [306.160004]\n",
            " [304.320007]\n",
            " [302.859985]\n",
            " [307.350006]\n",
            " [302.5     ]\n",
            " [293.119995]\n",
            " [298.929993]\n",
            " [298.440002]\n",
            " [298.5     ]\n",
            " [304.209991]\n",
            " [315.480011]\n",
            " [320.799988]\n",
            " [332.220001]\n",
            " [336.899994]\n",
            " [333.100006]\n",
            " [333.200012]\n",
            " [332.630005]\n",
            " [329.089996]\n",
            " [323.309998]\n",
            " [323.570007]\n",
            " [329.809998]\n",
            " [325.899994]\n",
            " [335.829987]\n",
            " [330.75    ]\n",
            " [339.26001 ]\n",
            " [335.660004]\n",
            " [329.049988]\n",
            " [338.920013]\n",
            " [338.690002]\n",
            " [339.070007]\n",
            " [338.619995]\n",
            " [339.670013]\n",
            " [338.109985]\n",
            " [326.      ]\n",
            " [349.600006]\n",
            " [353.160004]\n",
            " [342.880005]\n",
            " [348.519989]\n",
            " [343.160004]\n",
            " [347.73999 ]\n",
            " [345.089996]\n",
            " [358.      ]\n",
            " [369.01001 ]\n",
            " [369.670013]\n",
            " [366.950012]\n",
            " [366.769989]\n",
            " [371.070007]\n",
            " [373.690002]\n",
            " [380.01001 ]\n",
            " [381.399994]\n",
            " [380.399994]\n",
            " [387.779999]\n",
            " [386.190002]\n",
            " [386.      ]\n",
            " [380.070007]\n",
            " [368.700012]\n",
            " [360.089996]\n",
            " [379.23999 ]\n",
            " [371.709991]\n",
            " [369.029999]\n",
            " [381.049988]\n",
            " [368.769989]\n",
            " [383.790009]\n",
            " [372.779999]\n",
            " [368.970001]\n",
            " [346.48999 ]\n",
            " [364.130005]\n",
            " [349.920013]\n",
            " [315.25    ]\n",
            " [336.299988]\n",
            " [298.839996]\n",
            " [319.75    ]\n",
            " [315.470001]\n",
            " [332.029999]\n",
            " [332.829987]\n",
            " [360.269989]]\n"
          ],
          "name": "stdout"
        }
      ]
    },
    {
      "cell_type": "code",
      "metadata": {
        "id": "CDBf5FUuURE3",
        "colab_type": "code",
        "outputId": "2f82a524-1e8b-4138-dd88-59f40902bf31",
        "colab": {
          "base_uri": "https://localhost:8080/",
          "height": 686
        }
      },
      "source": [
        "# Create the target dataset (y) and convert to numpy array and get target values except last 'x'\n",
        "\n",
        "y = np.array(df['Prediction'])[: -future_days]\n",
        "print(y)"
      ],
      "execution_count": 0,
      "outputs": [
        {
          "output_type": "stream",
          "text": [
            "[353.399994 355.730011 357.130005 360.869995 352.01001  351.269989\n",
            " 345.559998 343.429993 339.730011 350.619995 357.119995 363.519989\n",
            " 365.209991 369.209991 371.040009 360.299988 362.200012 370.019989\n",
            " 367.320007 374.600006 375.429993 381.720001 380.549988 376.160004\n",
            " 379.929993 381.       379.5      373.25     366.600006 365.98999\n",
            " 362.440002 325.209991 315.100006 310.619995 307.299988 317.940002\n",
            " 326.459991 335.779999 332.700012 325.929993 322.98999  319.5\n",
            " 318.829987 307.630005 310.100006 304.290009 315.899994 308.929993\n",
            " 310.829987 312.279999 299.109985 295.76001  302.799988 309.380005\n",
            " 298.98999  297.809998 296.929993 291.440002 294.980011 291.029999\n",
            " 291.769989 296.779999 293.75     289.290009 291.519989 293.25\n",
            " 290.170013 294.339996 287.98999  288.269989 288.859985 294.149994\n",
            " 294.290009 298.600006 291.559998 286.600006 270.75     265.920013\n",
            " 254.589996 264.75     263.309998 263.079987 267.619995 269.579987\n",
            " 268.029999 268.149994 272.790009 274.459991 270.720001 267.529999\n",
            " 280.480011 282.929993 285.529999 284.25     286.279999 293.350006\n",
            " 275.299988 278.049988 266.690002 271.269989 271.5      276.820007\n",
            " 281.859985 281.209991 291.450012 287.410004 286.809998 292.859985\n",
            " 288.029999 288.589996 289.570007 291.570007 294.179993 292.01001\n",
            " 283.109985 289.619995 295.029999 302.570007 302.600006 305.160004\n",
            " 311.690002 310.480011 315.549988 312.48999  315.929993 314.660004\n",
            " 309.98999  306.160004 304.320007 302.859985 307.350006 302.5\n",
            " 293.119995 298.929993 298.440002 298.5      304.209991 315.480011\n",
            " 320.799988 332.220001 336.899994 333.100006 333.200012 332.630005\n",
            " 329.089996 323.309998 323.570007 329.809998 325.899994 335.829987\n",
            " 330.75     339.26001  335.660004 329.049988 338.920013 338.690002\n",
            " 339.070007 338.619995 339.670013 338.109985 326.       349.600006\n",
            " 353.160004 342.880005 348.519989 343.160004 347.73999  345.089996\n",
            " 358.       369.01001  369.670013 366.950012 366.769989 371.070007\n",
            " 373.690002 380.01001  381.399994 380.399994 387.779999 386.190002\n",
            " 386.       380.070007 368.700012 360.089996 379.23999  371.709991\n",
            " 369.029999 381.049988 368.769989 383.790009 372.779999 368.970001\n",
            " 346.48999  364.130005 349.920013 315.25     336.299988 298.839996\n",
            " 319.75     315.470001 332.029999 332.829987 360.269989 357.320007\n",
            " 342.390015 362.98999  357.119995 370.959991 375.5      364.079987\n",
            " 370.079987 361.76001  379.959991 372.279999 371.119995 370.720001\n",
            " 396.720001 413.549988 426.75     439.170013 422.959991 437.48999\n",
            " 433.829987 421.420013 426.700012 424.98999  421.380005 406.795013]\n"
          ],
          "name": "stdout"
        }
      ]
    },
    {
      "cell_type": "code",
      "metadata": {
        "id": "eFepPT2zUkm-",
        "colab_type": "code",
        "colab": {}
      },
      "source": [
        "# Spilt into 75% training and 25% testing data\n",
        "\n",
        "x_train, x_test, y_train, y_test = train_test_split(X, y, test_size=0.25)"
      ],
      "execution_count": 0,
      "outputs": []
    },
    {
      "cell_type": "code",
      "metadata": {
        "id": "fpFFo6_vUzGS",
        "colab_type": "code",
        "colab": {}
      },
      "source": [
        "# Create the decision tree regressor model\n",
        "tree = DecisionTreeRegressor().fit(x_train, y_train)\n",
        "\n",
        "# Create the linear Regression model\n",
        "lr = LinearRegression().fit(x_train, y_train)"
      ],
      "execution_count": 0,
      "outputs": []
    },
    {
      "cell_type": "code",
      "metadata": {
        "id": "2IRz-tA2VDbc",
        "colab_type": "code",
        "outputId": "f29864c2-b2d4-4ccc-cff1-a7a7c85d7aaf",
        "colab": {
          "base_uri": "https://localhost:8080/",
          "height": 457
        }
      },
      "source": [
        "# Get the last 'x' rows fof featrue dataset\n",
        "x_future = df.drop(['Prediction'], 1)[ :-future_days]\n",
        "x_future = x_future.tail(future_days)\n",
        "x_future = np.array(x_future)\n",
        "x_future"
      ],
      "execution_count": 0,
      "outputs": [
        {
          "output_type": "execute_result",
          "data": {
            "text/plain": [
              "array([[387.779999],\n",
              "       [386.190002],\n",
              "       [386.      ],\n",
              "       [380.070007],\n",
              "       [368.700012],\n",
              "       [360.089996],\n",
              "       [379.23999 ],\n",
              "       [371.709991],\n",
              "       [369.029999],\n",
              "       [381.049988],\n",
              "       [368.769989],\n",
              "       [383.790009],\n",
              "       [372.779999],\n",
              "       [368.970001],\n",
              "       [346.48999 ],\n",
              "       [364.130005],\n",
              "       [349.920013],\n",
              "       [315.25    ],\n",
              "       [336.299988],\n",
              "       [298.839996],\n",
              "       [319.75    ],\n",
              "       [315.470001],\n",
              "       [332.029999],\n",
              "       [332.829987],\n",
              "       [360.269989]])"
            ]
          },
          "metadata": {
            "tags": []
          },
          "execution_count": 18
        }
      ]
    },
    {
      "cell_type": "code",
      "metadata": {
        "id": "-K_SrgZfVsfP",
        "colab_type": "code",
        "outputId": "56e779c2-c4be-427e-815f-1809aecf5d26",
        "colab": {
          "base_uri": "https://localhost:8080/",
          "height": 210
        }
      },
      "source": [
        "# Show model tree prediction\n",
        "tree_prediction = tree.predict(x_future)\n",
        "print(tree_prediction)\n",
        "print()\n",
        "\n",
        "# Show model linear regression prediction\n",
        "lr_prediction = lr.predict(x_future)\n",
        "print(lr_prediction)"
      ],
      "execution_count": 0,
      "outputs": [
        {
          "output_type": "stream",
          "text": [
            "[342.390015 342.390015 362.98999  357.119995 370.959991 375.5\n",
            " 364.079987 353.399994 361.76001  379.959991 370.959991 371.119995\n",
            " 302.799988 349.920013 413.549988 426.75     439.170013 291.440002\n",
            " 437.48999  433.829987 291.769989 426.700012 348.519989 421.380005\n",
            " 406.795013]\n",
            "\n",
            "[364.32966319 363.40917456 363.2991777  359.86615791 353.28378626\n",
            " 348.2992348  359.38564052 355.02633764 353.47482391 360.43349318\n",
            " 353.32429768 362.01975918 355.64579177 353.44008958 340.42585457\n",
            " 350.63809605 342.41157981 322.34025079 334.52661008 312.84009314\n",
            " 324.94541222 322.46761482 332.05460772 332.51774058 348.40343721]\n"
          ],
          "name": "stdout"
        }
      ]
    },
    {
      "cell_type": "code",
      "metadata": {
        "id": "Fz-2XEmiV4sk",
        "colab_type": "code",
        "outputId": "d893f0cc-107f-49a1-965e-9452a5204194",
        "colab": {
          "base_uri": "https://localhost:8080/",
          "height": 618
        }
      },
      "source": [
        "# Visualize the data\n",
        "predictions = tree_prediction\n",
        "\n",
        "valid = df[X.shape[0]: ]\n",
        "valid['Predictions'] = predictions\n",
        "plt.figure(figsize=(16,8))\n",
        "plt.title('Model')\n",
        "plt.xlabel('Days')\n",
        "plt.ylabel('Close Price USD($)')\n",
        "plt.plot(df['Close'])\n",
        "plt.plot(valid[['Close', 'Predictions']])\n",
        "plt.legend(['Origi', 'Val', 'Pred'])\n",
        "plt.show()"
      ],
      "execution_count": 0,
      "outputs": [
        {
          "output_type": "stream",
          "text": [
            "/usr/local/lib/python3.6/dist-packages/ipykernel_launcher.py:4: SettingWithCopyWarning: \n",
            "A value is trying to be set on a copy of a slice from a DataFrame.\n",
            "Try using .loc[row_indexer,col_indexer] = value instead\n",
            "\n",
            "See the caveats in the documentation: https://pandas.pydata.org/pandas-docs/stable/user_guide/indexing.html#returning-a-view-versus-a-copy\n",
            "  after removing the cwd from sys.path.\n"
          ],
          "name": "stderr"
        },
        {
          "output_type": "display_data",
          "data": {
            "image/png": "[encoded data removed]",
            "text/plain": [
              "<Figure size 1152x576 with 1 Axes>"
            ]
          },
          "metadata": {
            "tags": [],
            "needs_background": "light"
          }
        }
      ]
    },
    {
      "cell_type": "code",
      "metadata": {
        "id": "OpIQ7KTKXEnm",
        "colab_type": "code",
        "colab": {}
      },
      "source": [
        ""
      ],
      "execution_count": 0,
      "outputs": []
    }
  ]
}